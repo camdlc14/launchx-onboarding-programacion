{
 "cells": [
  {
   "cell_type": "markdown",
   "metadata": {},
   "source": [
    "# Problema No. 1"
   ]
  },
  {
   "cell_type": "code",
   "execution_count": 30,
   "metadata": {},
   "outputs": [
    {
     "name": "stdout",
     "output_type": "stream",
     "text": [
      "!!!ALERTA, PELIGRO!!!  Asteroide se acerca a la Tierra demasiado rapido\n"
     ]
    }
   ],
   "source": [
    "velocidad_asteroide = 49\n",
    "if velocidad_asteroide > 25:\n",
    "     print('!!!ALERTA, PELIGRO!!!  Asteroide se acerca a la Tierra demasiado rapido')\n",
    "else:\n",
    "    print('Nada que informar')"
   ]
  },
  {
   "cell_type": "markdown",
   "metadata": {},
   "source": [
    "# Problema No. 2"
   ]
  },
  {
   "cell_type": "code",
   "execution_count": 31,
   "metadata": {},
   "outputs": [
    {
     "name": "stdout",
     "output_type": "stream",
     "text": [
      "!!!ALERTA! Busca en el cielo! Un asteroide se dirige a la Tierra 21 km/h\n"
     ]
    }
   ],
   "source": [
    "velocidad_asteroide = 21\n",
    "if velocidad_asteroide > 20:\n",
    "    print('!ALERTA! Busca en el cielo! Un asteroide se dirige a la Tierra ' + str(velocidad_asteroide) + ' km/h')\n",
    "elif velocidad_asteroide == 20:\n",
    "    print('!ALERTA! Busca en el cielo! Un asteroide se dirige a la Tierra ' + str(velocidad_asteroide) + ' km/h')\n",
    "else:\n",
    "    print('Nada que informar')"
   ]
  },
  {
   "cell_type": "markdown",
   "metadata": {},
   "source": [
    "# Problema No. 3"
   ]
  },
  {
   "cell_type": "code",
   "execution_count": 34,
   "metadata": {},
   "outputs": [
    {
     "name": "stdout",
     "output_type": "stream",
     "text": [
      "!!!ALERTA, PELIGRO!!! Asteroide de 40 mts de dimension se dirige a Tierra a una velocidad de 25, puede causar grandes daños\n"
     ]
    }
   ],
   "source": [
    "velocidad_asteroide = 25\n",
    "tamano_asteroide = 40\n",
    "if tamano_asteroide > 25 or velocidad_asteroide > 25:\n",
    "    print('!!!ALERTA, PELIGRO!!! Asteroide de ' + str(tamano_asteroide) + ' mts de dimension se dirige a Tierra a una velocidad de ' + str(velocidad_asteroide) + ', puede causar grandes daños')\n",
    "elif velocidad_asteroide >= 20:\n",
    "    print('!ALERTA! Busca en el cielo! Un asteroide se dirige a la Tierra a ' + str(velocidad_asteroide) + ' km/h')\n",
    "else:\n",
    "     print('Nada que informar')\n"
   ]
  }
 ],
 "metadata": {
  "interpreter": {
   "hash": "aee8b7b246df8f9039afb4144a1f6fd8d2ca17a180786b69acc140d282b71a49"
  },
  "kernelspec": {
   "display_name": "Python 3.10.2 64-bit",
   "language": "python",
   "name": "python3"
  },
  "language_info": {
   "codemirror_mode": {
    "name": "ipython",
    "version": 3
   },
   "file_extension": ".py",
   "mimetype": "text/x-python",
   "name": "python",
   "nbconvert_exporter": "python",
   "pygments_lexer": "ipython3",
   "version": "3.7.3"
  },
  "orig_nbformat": 4
 },
 "nbformat": 4,
 "nbformat_minor": 2
}
